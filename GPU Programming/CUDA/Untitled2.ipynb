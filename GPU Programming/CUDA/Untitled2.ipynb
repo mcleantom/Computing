{
 "cells": [
  {
   "cell_type": "markdown",
   "metadata": {},
   "source": [
    "# Matrix Multiplication using Cuda"
   ]
  },
  {
   "cell_type": "code",
   "execution_count": 1,
   "metadata": {},
   "outputs": [
    {
     "name": "stdout",
     "output_type": "stream",
     "text": [
      "Populating the interactive namespace from numpy and matplotlib\n"
     ]
    }
   ],
   "source": [
    "%pylab inline\n",
    "from numba import cuda, vectorize\n",
    "import numpy as np\n",
    "import math\n",
    "import os"
   ]
  },
  {
   "cell_type": "code",
   "execution_count": 2,
   "metadata": {},
   "outputs": [],
   "source": [
    "os.environ['NUMBAPRO_LIBDEVICE'] = \"/usr/local/cuda-10.0/nvvm/libdevice\"\n",
    "os.environ['NUMBAPRO_NVVM'] = \"/usr/local/cuda-10.0/nvvm/lib64/libnvvm.so\""
   ]
  },
  {
   "cell_type": "code",
   "execution_count": 40,
   "metadata": {},
   "outputs": [
    {
     "data": {
      "text/plain": [
       "(128, 128)"
      ]
     },
     "execution_count": 40,
     "metadata": {},
     "output_type": "execute_result"
    }
   ],
   "source": [
    "k = 7\n",
    "n = 2**k\n",
    "m = 2**k\n",
    "a = np.arange(n*m).reshape((n,m))\n",
    "b = np.arange(n*m).reshape((n,m))\n",
    "a.shape"
   ]
  },
  {
   "cell_type": "code",
   "execution_count": 41,
   "metadata": {},
   "outputs": [
    {
     "data": {
      "text/plain": [
       "dtype('int32')"
      ]
     },
     "execution_count": 41,
     "metadata": {},
     "output_type": "execute_result"
    }
   ],
   "source": [
    "c = a.dot(b)\n",
    "c.dtype"
   ]
  },
  {
   "cell_type": "code",
   "execution_count": 3,
   "metadata": {},
   "outputs": [],
   "source": [
    "@cuda.jit\n",
    "def matmul(A, B, C):\n",
    "    \"\"\"Perform square matrix multiplication of C = A * B\"\"\"\n",
    "    i, j = cuda.grid(2)\n",
    "    if i < C.shape[0] and j < C.shape[1]:\n",
    "        tmp = 0.\n",
    "        for k in range(A.shape[1]):\n",
    "            tmp += A[i, k] * B[k, j]\n",
    "        C[i, j] = tmp"
   ]
  },
  {
   "cell_type": "code",
   "execution_count": 14,
   "metadata": {},
   "outputs": [
    {
     "data": {
      "text/plain": [
       "[<matplotlib.lines.Line2D at 0x20b2b4d66a0>]"
      ]
     },
     "execution_count": 14,
     "metadata": {},
     "output_type": "execute_result"
    },
    {
     "data": {
      "image/png": "[encoded data removed]",
      "text/plain": [
       "<Figure size 432x288 with 1 Axes>"
      ]
     },
     "metadata": {
      "needs_background": "light"
     },
     "output_type": "display_data"
    }
   ],
   "source": [
    "max_error = []\n",
    "k_max = 10\n",
    "for k in range(k_max):\n",
    "    n = 2**k\n",
    "    m = 2**k\n",
    "    a = np.arange(n*m).reshape((n,m))\n",
    "    b = np.arange(n*m).reshape((n,m))\n",
    "    d_a = cuda.to_device(a)\n",
    "    d_b = cuda.to_device(b)\n",
    "    c = np.zeros((a.shape[0], b.shape[1])).astype(np.float64)\n",
    "    d_c = cuda.to_device(c)\n",
    "    threads_per_block = 32\n",
    "    blocks_per_thread_x = math.ceil((a.shape[0] + threads_per_block - 1)/threads_per_block)\n",
    "    blocks_per_thread_y = math.ceil((a.shape[0] + threads_per_block - 1)/threads_per_block)\n",
    "    matmul[(blocks_per_thread_x, blocks_per_thread_y), (threads_per_block, threads_per_block)](d_a, d_b, d_c)\n",
    "    c = d_c.copy_to_host()\n",
    "    max_error.append((c - a.dot(b)).max())\n",
    "\n",
    "plot(range(k_max), max_error)"
   ]
  },
  {
   "cell_type": "code",
   "execution_count": 5,
   "metadata": {},
   "outputs": [
    {
     "data": {
      "text/plain": [
       "[<matplotlib.lines.Line2D at 0x20b289d7d90>]"
      ]
     },
     "execution_count": 5,
     "metadata": {},
     "output_type": "execute_result"
    },
    {
     "data": {
      "image/png": "[encoded data removed]",
      "text/plain": [
       "<Figure size 432x288 with 1 Axes>"
      ]
     },
     "metadata": {
      "needs_background": "light"
     },
     "output_type": "display_data"
    }
   ],
   "source": []
  },
  {
   "cell_type": "code",
   "execution_count": 44,
   "metadata": {},
   "outputs": [
    {
     "data": {
      "text/plain": [
       "dtype('float64')"
      ]
     },
     "execution_count": 44,
     "metadata": {},
     "output_type": "execute_result"
    }
   ],
   "source": [
    "c.dtype"
   ]
  },
  {
   "cell_type": "code",
   "execution_count": 47,
   "metadata": {},
   "outputs": [
    {
     "data": {
      "text/plain": [
       "5"
      ]
     },
     "execution_count": 47,
     "metadata": {},
     "output_type": "execute_result"
    }
   ],
   "source": [
    "blocks_per_thread_x"
   ]
  },
  {
   "cell_type": "code",
   "execution_count": 54,
   "metadata": {},
   "outputs": [
    {
     "name": "stdout",
     "output_type": "stream",
     "text": [
      "[[128. 128. 128. ... 128. 128. 128.]\n",
      " [128. 128. 128. ... 128. 128. 128.]\n",
      " [128. 128. 128. ... 128. 128. 128.]\n",
      " ...\n",
      " [128. 128. 128. ... 128. 128. 128.]\n",
      " [128. 128. 128. ... 128. 128. 128.]\n",
      " [128. 128. 128. ... 128. 128. 128.]]\n",
      "[[128. 128. 128. ... 128. 128. 128.]\n",
      " [128. 128. 128. ... 128. 128. 128.]\n",
      " [128. 128. 128. ... 128. 128. 128.]\n",
      " ...\n",
      " [128. 128. 128. ... 128. 128. 128.]\n",
      " [128. 128. 128. ... 128. 128. 128.]\n",
      " [128. 128. 128. ... 128. 128. 128.]]\n"
     ]
    }
   ],
   "source": [
    "@cuda.jit\n",
    "def fast_matmul(A, B, C):\n",
    "    # Define an array in the shared memory\n",
    "    # The size and type of the arrays must be known at compile time\n",
    "    sA = cuda.shared.array(shape=(TPB, TPB), dtype=float32)\n",
    "    sB = cuda.shared.array(shape=(TPB, TPB), dtype=float32)\n",
    "\n",
    "    x, y = cuda.grid(2)\n",
    "\n",
    "    tx = cuda.threadIdx.x\n",
    "    ty = cuda.threadIdx.y\n",
    "    bpg = cuda.gridDim.x    # blocks per grid\n",
    "\n",
    "    # Each thread computes one element in the result matrix.\n",
    "    # The dot product is chunked into dot products of TPB-long vectors.\n",
    "    tmp = 0.\n",
    "    for i in range(bpg):\n",
    "        # Preload data into shared memory\n",
    "        sA[ty, tx] = 0\n",
    "        sB[ty, tx] = 0\n",
    "        if y < A.shape[0] and (tx+i*TPB) < A.shape[1]:\n",
    "          sA[ty, tx] = A[y, tx + i * TPB]\n",
    "        if x < B.shape[1] and (ty+i*TPB) < B.shape[0]:\n",
    "          sB[ty, tx] = B[ty + i * TPB, x]\n",
    "\n",
    "        # Wait until all threads finish preloading\n",
    "        cuda.syncthreads()\n",
    "\n",
    "        # Computes partial product on the shared memory\n",
    "        for j in range(TPB):\n",
    "            tmp += sA[ty, j] * sB[j, tx]\n",
    "\n",
    "        # Wait until all threads finish computing\n",
    "        cuda.syncthreads()\n",
    "    if y < C.shape[0] and x < C.shape[1]:\n",
    "        C[y, x] = tmp\n",
    "\n",
    "\n",
    "\n",
    "#%%\n",
    "\n",
    "k = 7\n",
    "n = 2**k\n",
    "m = 2**k\n",
    "a = np.ones(n*m).reshape((n,m))\n",
    "b = np.ones(n*m).reshape((n,m))\n",
    "c = np.zeros((a.shape[0], b.shape[1]))\n",
    "\n",
    "x_h = a\n",
    "y_h = b\n",
    "z_h = c\n",
    "\n",
    "x_d = cuda.to_device(x_h)\n",
    "y_d = cuda.to_device(y_h)\n",
    "z_d = cuda.to_device(z_h)\n",
    "\n",
    "#TPB must be an integer between 1 and 32\n",
    "TPB = 32\n",
    "threadsperblock = (TPB, TPB)\n",
    "grid_y_max = max(x_h.shape[0],y_h.shape[0])\n",
    "grid_x_max = max(x_h.shape[1],y_h.shape[1])\n",
    "blockspergrid_x = math.ceil(grid_x_max / threadsperblock[0])\n",
    "blockspergrid_y = math.ceil(grid_y_max / threadsperblock[1])\n",
    "blockspergrid = (blockspergrid_x, blockspergrid_y)\n",
    "\n",
    "fast_matmul[blockspergrid, threadsperblock](x_d, y_d, z_d)\n",
    "z_h = z_d.copy_to_host()\n",
    "print(z_h)\n",
    "print(x_h@y_h)"
   ]
  },
  {
   "cell_type": "code",
   "execution_count": 55,
   "metadata": {},
   "outputs": [
    {
     "data": {
      "text/plain": [
       "0.0"
      ]
     },
     "execution_count": 55,
     "metadata": {},
     "output_type": "execute_result"
    }
   ],
   "source": [
    "(z_h - a.dot(b)).max()"
   ]
  },
  {
   "cell_type": "code",
   "execution_count": null,
   "metadata": {},
   "outputs": [],
   "source": []
  }
 ],
 "metadata": {
  "kernelspec": {
   "display_name": "Python 3",
   "language": "python",
   "name": "python3"
  },
  "language_info": {
   "codemirror_mode": {
    "name": "ipython",
    "version": 3
   },
   "file_extension": ".py",
   "mimetype": "text/x-python",
   "name": "python",
   "nbconvert_exporter": "python",
   "pygments_lexer": "ipython3",
   "version": "3.8.3"
  }
 },
 "nbformat": 4,
 "nbformat_minor": 4
}
