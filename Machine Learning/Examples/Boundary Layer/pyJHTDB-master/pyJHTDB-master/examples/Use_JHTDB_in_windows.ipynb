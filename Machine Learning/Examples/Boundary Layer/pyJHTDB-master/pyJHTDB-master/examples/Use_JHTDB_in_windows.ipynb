{
 "cells": [
  {
   "cell_type": "markdown",
   "metadata": {},
   "source": [
    "pyJHTDB are failed to compile on windows. One alternative way might be to use [zeep](https://python-zeep.readthedocs.io/en/master/) package.    \n",
    "More details can be found at [http://turbulence.pha.jhu.edu/service/turbulence.asmx](http://turbulence.pha.jhu.edu/service/turbulence.asmx)"
   ]
  },
  {
   "cell_type": "code",
   "execution_count": 1,
   "metadata": {},
   "outputs": [
    {
     "name": "stdout",
     "output_type": "stream",
     "text": [
      "[[0.53187028 0.03233128 0.36918436]\n",
      " [0.71432427 0.59386035 0.82498249]\n",
      " [0.81072237 0.83556546 0.1506142 ]\n",
      " [0.60134585 0.71154697 0.31154439]\n",
      " [0.07116765 0.99824415 0.24781622]]\n"
     ]
    }
   ],
   "source": [
    "import zeep\n",
    "import numpy as np\n",
    "\n",
    "client = zeep.Client('http://turbulence.pha.jhu.edu/service/turbulence.asmx?WSDL')\n",
    "ArrayOfFloat = client.get_type('ns0:ArrayOfFloat')\n",
    "ArrayOfArrayOfFloat = client.get_type('ns0:ArrayOfArrayOfFloat')\n",
    "SpatialInterpolation = client.get_type('ns0:SpatialInterpolation')\n",
    "TemporalInterpolation = client.get_type('ns0:TemporalInterpolation')\n",
    "\n",
    "token=\"edu.jhu.pha.turbulence.testing-201406\" #replace with your own token\n",
    "\n",
    "nnp=5 #number of points\n",
    "points=np.random.rand(nnp,3)\n",
    "\n",
    "# convert to JHTDB structures\n",
    "x_coor=ArrayOfFloat(points[:,0].tolist())\n",
    "y_coor=ArrayOfFloat(points[:,1].tolist())\n",
    "z_coor=ArrayOfFloat(points[:,2].tolist())\n",
    "point=ArrayOfArrayOfFloat([x_coor,y_coor,z_coor]);\n",
    "\n",
    "print(points)"
   ]
  },
  {
   "cell_type": "markdown",
   "metadata": {},
   "source": [
    "#### In `GetData_Python`, Function_name could be  \n",
    "\n",
    "GetVelocity,            GetMagneticField,          GetVectorPotential,    \n",
    "GetVelocityGradient,    GetMagneticFieldGradient,  GetVectorPotentialGradient,    \n",
    "GetVelocityHessian,     GetMagneticHessian,        GetVectorPotentialHessian,    \n",
    "GetVelocityLaplacian,   GetMagneticFieldLaplacian, GetVectorPotentialLaplacian,    \n",
    "\n",
    "GetPressure,            GetTemperature,            GetDensity,    \n",
    "GetPressureGradient,    GetTemperatureGradient,    GetDensityGradient,    \n",
    "GetPressureHessian,     GetTemperatureHessian,     GetDensityHessian,     \n",
    "\n",
    "GetVelocityAndPressure, GetVelocityAndTemperature, GetForce, GetInvariant"
   ]
  },
  {
   "cell_type": "code",
   "execution_count": 2,
   "metadata": {},
   "outputs": [
    {
     "name": "stdout",
     "output_type": "stream",
     "text": [
      "[[ -0.56701374  -7.902108    10.5850477    2.26401734  -3.15606952\n",
      "    5.209894    -1.8741504   -0.34069368   3.555669  ]\n",
      " [  6.15157461   1.84039414  -4.72127676   5.623206    -4.64100456\n",
      "    7.90722561  -2.551727    -4.98853445  -1.3864001 ]\n",
      " [ -1.67070842  -7.99403954  -5.926757    23.4961185    1.03677046\n",
      "   29.9265633   -6.925942   -19.5277824    0.5717542 ]\n",
      " [  9.975634     3.51199937  23.3713722   -5.68434429   0.17755659\n",
      "  -17.7729378   -2.3305788   -9.197428   -10.353199  ]\n",
      " [  2.91647      2.37627721  -3.24783945  -4.913837    -1.907366\n",
      "   -2.58240175   6.87442827   3.72034025  -1.09677577]]\n"
     ]
    }
   ],
   "source": [
    "Function_name=\"GetVelocityGradient\" \n",
    "time=0.6\n",
    "number_of_component=9 # change this based on function_name, see http://turbulence.pha.jhu.edu/webquery/query.aspx\n",
    "\n",
    "result=client.service.GetData_Python(Function_name, token,\"isotropic1024coarse\", 0.6, \n",
    "                                     SpatialInterpolation(\"None_Fd4\"), TemporalInterpolation(\"None\"), point)\n",
    "result=np.array(result).reshape((-1, number_of_component))\n",
    "\n",
    "print(result)"
   ]
  },
  {
   "cell_type": "markdown",
   "metadata": {},
   "source": [
    "#### In `GetPosition_Python`, Function_name could be\n",
    "GetPosition only."
   ]
  },
  {
   "cell_type": "code",
   "execution_count": 3,
   "metadata": {},
   "outputs": [
    {
     "name": "stdout",
     "output_type": "stream",
     "text": [
      "[[ 0.5509413  -0.11838733  0.3403707 ]\n",
      " [ 0.7480935   0.5429849   0.73117405]\n",
      " [ 0.7962904   0.65870273  0.05734132]\n",
      " [ 0.558507    0.56875074  0.29501018]\n",
      " [ 0.01652166  0.9107007   0.18408126]]\n"
     ]
    }
   ],
   "source": [
    "Function_name=\"GetPosition\"\n",
    "startTime=0.1\n",
    "endTime=0.2\n",
    "dt=0.02\n",
    "number_of_component=3 # change this based on function_name, see http://turbulence.pha.jhu.edu/webquery/query.aspx\n",
    "\n",
    "result=client.service.GetPosition_Python(Function_name, token,\"isotropic1024coarse\", startTime, endTime, dt, \n",
    "                                         SpatialInterpolation(\"None\"), point)\n",
    "result=np.array(result).reshape((-1, number_of_component))\n",
    "print(result)"
   ]
  },
  {
   "cell_type": "markdown",
   "metadata": {},
   "source": [
    "#### In `GetFilter_Python`, Function_name could be    \n",
    "\n",
    "GetBoxFilter, GetBoxFilterSGSscalar, GetBoxFilterSGSvector,     \n",
    "GetBoxFilterSGSsymtensor, GetBoxFilterSGStensor, GetBoxFilterGradient."
   ]
  },
  {
   "cell_type": "code",
   "execution_count": 4,
   "metadata": {},
   "outputs": [
    {
     "name": "stdout",
     "output_type": "stream",
     "text": [
      "[[ 0.27206102 -1.30481255  0.06045016]\n",
      " [-0.12582369 -0.37959147 -1.10447919]\n",
      " [-0.8601785  -0.65143985 -0.8783631 ]\n",
      " [-0.48609233 -0.95902133 -0.22834729]\n",
      " [-0.42911473 -0.80377346  0.25465983]]\n"
     ]
    }
   ],
   "source": [
    "Function_name=\"GetBoxFilter\" #could also be\n",
    "field=\"u\"\n",
    "time=0.6\n",
    "filterwidth=0.05\n",
    "spacing=0 #spacing is only used in GetBoxFilterGradient, but always provide it.\n",
    "number_of_component=3 # change this based on function_name, see http://turbulence.pha.jhu.edu/webquery/query.aspx\n",
    "\n",
    "result=client.service.GetFilter_Python(\"GetBoxFilter\",token,\"isotropic1024coarse\", field, \n",
    "                                       time, filterwidth, SpatialInterpolation(\"None\"), point, spacing) \n",
    "result=np.array(result).reshape((-1, number_of_component))\n",
    "print(result)"
   ]
  },
  {
   "cell_type": "code",
   "execution_count": 5,
   "metadata": {},
   "outputs": [
    {
     "name": "stdout",
     "output_type": "stream",
     "text": [
      "(20, 20, 20, 3)\n"
     ]
    }
   ],
   "source": [
    "import struct\n",
    "import base64\n",
    "\n",
    "field=\"u\"\n",
    "timestep=1\n",
    "x_start=1\n",
    "y_start=1\n",
    "z_start=1\n",
    "x_end=2\n",
    "y_end=5\n",
    "z_end=8\n",
    "x_step=1\n",
    "y_step=1\n",
    "z_step=1\n",
    "filter_width=0\n",
    "    \n",
    "result=client.service.GetAnyCutoutWeb(token,\"isotropic1024coarse\", field, timestep,\n",
    "                                       x_start, y_start, z_start, x_end, y_end, z_end,\n",
    "                                      x_step, y_step, z_step, filter_width, \"\")  # put empty string for the last parameter\n",
    "\n",
    "# transfer base64 format to numpy\n",
    "number_of_component=3 # change this based on the field\n",
    "nx=len(range(x_start, x_end+1, x_step))\n",
    "ny=len(range(y_start, y_end+1, y_step))\n",
    "nz=len(range(z_start, z_end+1, z_step))\n",
    "base64_len=int(nx*ny*nz*number_of_component)\n",
    "base64_format='<'+str(base64_len)+'f'\n",
    "\n",
    "result=struct.unpack(base64_format, result)\n",
    "result=np.array(result).reshape((nz, ny, nx, number_of_component))\n",
    "print(result.shape)  # see the shape of the result and compare it with nx, ny, nz and number of component"
   ]
  },
  {
   "cell_type": "code",
   "execution_count": null,
   "metadata": {},
   "outputs": [],
   "source": []
  }
 ],
 "metadata": {
  "kernelspec": {
   "display_name": "Python 3",
   "language": "python",
   "name": "python3"
  },
  "language_info": {
   "codemirror_mode": {
    "name": "ipython",
    "version": 3
   },
   "file_extension": ".py",
   "mimetype": "text/x-python",
   "name": "python",
   "nbconvert_exporter": "python",
   "pygments_lexer": "ipython3",
   "version": "3.7.1"
  }
 },
 "nbformat": 4,
 "nbformat_minor": 2
}
