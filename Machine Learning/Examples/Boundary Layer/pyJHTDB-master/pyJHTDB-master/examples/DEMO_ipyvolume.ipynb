{
 "cells": [
  {
   "cell_type": "code",
   "execution_count": 1,
   "metadata": {},
   "outputs": [],
   "source": [
    "import numpy as np\n",
    "import pyJHTDB\n",
    "from pyJHTDB.dbinfo import isotropic1024coarse as info\n",
    "import time as tt\n",
    "\n",
    "npoints = 2\n",
    "nparticles = 2**5\n",
    "nsteps = 2**7\n",
    "\n",
    "x = np.zeros(shape = (npoints, nparticles, 3), dtype = np.float32)\n",
    "x[..., 0] = info['lx']*np.random.random(size = (npoints,))[:, None]\n",
    " # this value is adequate for channel flow\n",
    "x[..., 1] = info['ynodes'][info['ynodes'].shape[0]//2]\n",
    "x[..., 2] = info['lz']*np.random.random(size = (npoints,))[:, None]"
   ]
  },
  {
   "cell_type": "code",
   "execution_count": 2,
   "metadata": {},
   "outputs": [
    {
     "name": "stdout",
     "output_type": "stream",
     "text": [
      "step 0\n",
      "step 1\n",
      "step 2\n",
      "step 3\n",
      "step 4\n",
      "step 5\n",
      "step 6\n",
      "step 7\n",
      "step 8\n",
      "step 9\n",
      "step 10\n",
      "step 11\n",
      "step 12\n",
      "step 13\n",
      "step 14\n",
      "step 15\n",
      "step 16\n",
      "step 17\n",
      "step 18\n",
      "step 19\n",
      "step 20\n",
      "step 21\n",
      "step 22\n",
      "step 23\n",
      "step 24\n",
      "step 25\n",
      "step 26\n",
      "step 27\n",
      "step 28\n",
      "step 29\n",
      "step 30\n",
      "step 31\n",
      "step 32\n",
      "step 33\n",
      "step 34\n",
      "step 35\n",
      "step 36\n",
      "step 37\n",
      "step 38\n",
      "step 39\n",
      "step 40\n",
      "step 41\n",
      "step 42\n",
      "step 43\n",
      "step 44\n",
      "step 45\n",
      "step 46\n",
      "step 47\n",
      "step 48\n",
      "step 49\n",
      "step 50\n",
      "step 51\n",
      "step 52\n",
      "step 53\n",
      "step 54\n",
      "step 55\n",
      "step 56\n",
      "step 57\n",
      "step 58\n",
      "step 59\n",
      "step 60\n",
      "step 61\n",
      "step 62\n",
      "step 63\n",
      "step 64\n",
      "step 65\n",
      "step 66\n",
      "step 67\n",
      "step 68\n",
      "step 69\n",
      "step 70\n",
      "step 71\n",
      "step 72\n",
      "step 73\n",
      "step 74\n",
      "step 75\n",
      "step 76\n",
      "step 77\n",
      "step 78\n",
      "step 79\n",
      "step 80\n",
      "step 81\n",
      "step 82\n",
      "step 83\n",
      "step 84\n",
      "step 85\n",
      "step 86\n",
      "step 87\n",
      "step 88\n",
      "step 89\n",
      "step 90\n",
      "step 91\n",
      "step 92\n",
      "step 93\n",
      "step 94\n",
      "step 95\n",
      "step 96\n",
      "step 97\n",
      "step 98\n",
      "step 99\n",
      "step 100\n",
      "step 101\n",
      "step 102\n",
      "step 103\n",
      "step 104\n",
      "step 105\n",
      "step 106\n",
      "step 107\n",
      "step 108\n",
      "step 109\n",
      "step 110\n",
      "step 111\n",
      "step 112\n",
      "step 113\n",
      "step 114\n",
      "step 115\n",
      "step 116\n",
      "step 117\n",
      "step 118\n",
      "step 119\n",
      "step 120\n",
      "step 121\n",
      "step 122\n",
      "step 123\n",
      "step 124\n",
      "step 125\n",
      "step 126\n",
      "step 127\n"
     ]
    }
   ],
   "source": [
    "from pyJHTDB import libJHTDB\n",
    "from pyJHTDB.dbinfo import interpolation_code\n",
    "\n",
    "lJHTDB = libJHTDB()\n",
    "lJHTDB.initialize()\n",
    "\n",
    "#Add token\n",
    "auth_token  = \"edu.jhu.pha.turbulence.testing-201311\" #Replace with your own token here\n",
    "lJHTDB.add_token(auth_token)\n",
    "\n",
    "t = info['time'][-1]  #final time\n",
    "dt = info['time'][1] - info['time'][0] # this may be too big\n",
    "xfull = np.zeros(shape = (nsteps+1, npoints, nparticles, 3),\n",
    "                 dtype = np.float32)\n",
    "xfull[0] = x\n",
    "kappa = (2*info['nu'])**.5\n",
    "for tindex in range(nsteps):\n",
    "    print('step {0}'.format(tindex))\n",
    "    # get velocity\n",
    "    u = lJHTDB.getData(\n",
    "                t,\n",
    "                xfull[tindex],\n",
    "                sinterp = interpolation_code['M2Q8'],\n",
    "                tinterp = interpolation_code['NoTInt'],\n",
    "                data_set = info['name'],\n",
    "                getFunction = 'getVelocity')\n",
    "    # Euler Maruyama\n",
    "    dW = np.random.randn(*xfull.shape[1:])*(dt**.5)\n",
    "    xfull[tindex+1] = xfull[tindex] - u*dt + kappa*dW\n",
    "    t -= dt\n",
    "lJHTDB.finalize()"
   ]
  },
  {
   "cell_type": "code",
   "execution_count": 4,
   "metadata": {},
   "outputs": [
    {
     "data": {
      "application/vnd.jupyter.widget-view+json": {
       "model_id": "2e9154a06a92452f9391c91512c02218",
       "version_major": 2,
       "version_minor": 0
      },
      "text/plain": [
       "VBox(children=(Figure(camera=PerspectiveCamera(fov=46.0, position=(0.0, 0.0, 2.0), quaternion=(0.0, 0.0, 0.0, …"
      ]
     },
     "metadata": {},
     "output_type": "display_data"
    }
   ],
   "source": [
    "import numpy as np\n",
    "import ipyvolume as ipv\n",
    "\n",
    "fig = ipv.figure()\n",
    "#ax = fig.add_subplot(111, projection = '3d')\n",
    "for traj in range(xfull.shape[2]):\n",
    "    p=ipv.pylab.plot(xfull[:, 0, traj, 0],\n",
    "            xfull[:, 0, traj, 1],\n",
    "            xfull[:, 0, traj, 2],\n",
    "            color = 'red')\n",
    "#print(xfull[:, 0, :, 0].min())\n",
    "ipv.xlim(xfull[:, 0, :, 0].min(),xfull[:, 0, :, 0].max())\n",
    "ipv.ylim(xfull[:, 0, :, 1].min(),xfull[:, 0, :, 1].max())\n",
    "ipv.zlim(xfull[:, 0, :, 2].min(),xfull[:, 0, :, 2].max())\n",
    "ipv.show()"
   ]
  },
  {
   "cell_type": "code",
   "execution_count": 5,
   "metadata": {},
   "outputs": [
    {
     "name": "stdout",
     "output_type": "stream",
     "text": [
      "82.3961570262909\n",
      "(128, 512, 128, 3)\n"
     ]
    }
   ],
   "source": [
    "lJHTDB = libJHTDB()\n",
    "lJHTDB.initialize()\n",
    "\n",
    "#Add token\n",
    "lTDB.add_token(auth_token)\n",
    "\n",
    "start = tt.time()\n",
    "nx=128\n",
    "ny=512\n",
    "nz=128\n",
    "result = lJHTDB.getRawData(\n",
    "    9,\n",
    "    start = np.array([0, 0, 0], dtype = np.int),\n",
    "    size  = np.array([nx, ny, nz], dtype = np.int),\n",
    "    data_set = 'channel',\n",
    "    getFunction = 'Velocity')\n",
    "\n",
    "    \n",
    "end = tt.time()\n",
    "print(end - start)\n",
    "lJHTDB.finalize()\n",
    "print(result.shape)"
   ]
  },
  {
   "cell_type": "code",
   "execution_count": 6,
   "metadata": {},
   "outputs": [
    {
     "name": "stderr",
     "output_type": "stream",
     "text": [
      "/anaconda3/lib/python3.7/site-packages/ipyvolume/widgets.py:179: FutureWarning: Using a non-tuple sequence for multidimensional indexing is deprecated; use `arr[tuple(seq)]` instead of `arr[seq]`. In the future this will be interpreted as an array index, `arr[np.array(seq)]`, which will result either in an error or a different result.\n",
      "  data_view = self.data_original[view]\n",
      "/anaconda3/lib/python3.7/site-packages/ipyvolume/utils.py:204: FutureWarning: Using a non-tuple sequence for multidimensional indexing is deprecated; use `arr[tuple(seq)]` instead of `arr[seq]`. In the future this will be interpreted as an array index, `arr[np.array(seq)]`, which will result either in an error or a different result.\n",
      "  data = (data[slices1] + data[slices2])/2\n"
     ]
    },
    {
     "data": {
      "application/vnd.jupyter.widget-view+json": {
       "model_id": "0129f47db2a24e4990c298c41a9b6f81",
       "version_major": 2,
       "version_minor": 0
      },
      "text/plain": [
       "VBox(children=(VBox(children=(HBox(children=(Label(value='levels:'), FloatSlider(value=0.2, max=1.0, step=0.00…"
      ]
     },
     "metadata": {},
     "output_type": "display_data"
    }
   ],
   "source": [
    "#fig = ipv.figure()\n",
    "#p=ipv.pylab.volshow(result[:,:,:,0])\n",
    "#ipv.show()\n",
    "\n",
    "ipv.quickvolshow(result[:,:,:,0], level=[0.2, 0.5, 1.0], opacity=[0.1, 0.1, 0.1], extent=[[0, 1.5],[-1,1],[0,0.78]])\n",
    "ipv.xlim(0, 1.5)\n",
    "ipv.ylim(-1, 1)\n",
    "ipv.zlim(0, 0.78)\n",
    "ipv.show()"
   ]
  },
  {
   "cell_type": "code",
   "execution_count": 7,
   "metadata": {},
   "outputs": [
    {
     "data": {
      "application/vnd.jupyter.widget-view+json": {
       "model_id": "aa774a818ac9444ba6885fad9f3719e0",
       "version_major": 2,
       "version_minor": 0
      },
      "text/plain": [
       "VBox(children=(Figure(camera=PerspectiveCamera(fov=46.0, position=(0.0, 0.0, 2.0), quaternion=(0.0, 0.0, 0.0, …"
      ]
     },
     "metadata": {},
     "output_type": "display_data"
    }
   ],
   "source": [
    "fig = ipv.figure()\n",
    "ipv.pylab.plot_isosurface(result[:,:,:,0], level=0.5, extent=[[0, 1.5],[-1,1],[0,0.78]])\n",
    "#ipv.quickvolshow(result[:,:,:,0], level=[0.2, 0.5, 1.0], opacity=[0.1, 0.1, 0.1])\n",
    "ipv.xlim(0, 1.5)\n",
    "ipv.ylim(-1, 1)\n",
    "ipv.zlim(0, 0.78)\n",
    "ipv.show()"
   ]
  },
  {
   "cell_type": "code",
   "execution_count": 9,
   "metadata": {},
   "outputs": [
    {
     "name": "stdout",
     "output_type": "stream",
     "text": [
      "[0.         0.12271846 0.24543693 0.36815539 0.49087385 0.61359232\n",
      " 0.73631078]\n",
      "26\n"
     ]
    },
    {
     "data": {
      "application/vnd.jupyter.widget-view+json": {
       "model_id": "b3cfb409f3564ae6b55b944019c0b60a",
       "version_major": 2,
       "version_minor": 0
      },
      "text/plain": [
       "VBox(children=(VBox(children=(Figure(camera=PerspectiveCamera(fov=46.0, position=(0.0, 0.0, 2.0), quaternion=(…"
      ]
     },
     "metadata": {},
     "output_type": "display_data"
    }
   ],
   "source": [
    "import ipyvolume as ipv\n",
    "\n",
    "skip=20\n",
    "lengthx=int(np.ceil(nx/skip))\n",
    "lengthy=int(np.ceil(ny/skip))\n",
    "lengthz=int(np.ceil(nz/skip))\n",
    "\n",
    "x=np.linspace(0, 8*np.pi, num=2049)\n",
    "x=x[0:nx:skip]\n",
    "y=pyJHTDB.dbinfo.channel['ynodes']\n",
    "y=y[0:ny:skip]\n",
    "z=np.linspace(0, 3*np.pi, num=1537)\n",
    "z=z[0:nz:skip]\n",
    "\n",
    "print(z)\n",
    "print(lengthy)\n",
    "y,x,z=np.meshgrid(y,x,z)\n",
    "x=np.reshape(x,lengthx*lengthy*lengthz)\n",
    "y=np.reshape(y,lengthx*lengthy*lengthz)\n",
    "z=np.reshape(z,lengthx*lengthy*lengthz)\n",
    "u=np.reshape(result[0:nx:skip,0:ny:skip,0:nz:skip,0],lengthx*lengthy*lengthz)\n",
    "v=np.reshape(result[0:nx:skip,0:ny:skip,0:nz:skip,1],lengthx*lengthy*lengthz)\n",
    "w=np.reshape(result[0:nx:skip,0:ny:skip,0:nz:skip,2],lengthx*lengthy*lengthz)\n",
    "\n",
    "fig = ipv.figure()\n",
    "quiver = ipv.pylab.quiver(x,y,z,u,v,w,size=5**u)\n",
    "ipv.xlim(0, 1.5)\n",
    "ipv.ylim(-1, 1)\n",
    "ipv.zlim(0, 0.78)\n",
    "#ipv.show()\n",
    "\n",
    "from ipywidgets import FloatSlider, ColorPicker, VBox, jslink\n",
    "size = FloatSlider(min=0, max=30, step=0.1)\n",
    "size_selected = FloatSlider(min=0, max=30, step=0.1)\n",
    "color = ColorPicker()\n",
    "color_selected = ColorPicker()\n",
    "jslink((quiver, 'size'), (size, 'value'))\n",
    "jslink((quiver, 'size_selected'), (size_selected, 'value'))\n",
    "jslink((quiver, 'color'), (color, 'value'))\n",
    "jslink((quiver, 'color_selected'), (color_selected, 'value'))\n",
    "VBox([ipv.gcc(), size, size_selected, color, color_selected])"
   ]
  },
  {
   "cell_type": "code",
   "execution_count": null,
   "metadata": {},
   "outputs": [],
   "source": []
  }
 ],
 "metadata": {
  "kernelspec": {
   "display_name": "Python 3",
   "language": "python",
   "name": "python3"
  },
  "language_info": {
   "codemirror_mode": {
    "name": "ipython",
    "version": 3
   },
   "file_extension": ".py",
   "mimetype": "text/x-python",
   "name": "python",
   "nbconvert_exporter": "python",
   "pygments_lexer": "ipython3",
   "version": "3.7.2"
  }
 },
 "nbformat": 4,
 "nbformat_minor": 1
}
