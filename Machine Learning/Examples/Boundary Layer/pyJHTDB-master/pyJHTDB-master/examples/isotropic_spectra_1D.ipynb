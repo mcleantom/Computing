{
 "cells": [
  {
   "cell_type": "markdown",
   "metadata": {},
   "source": [
    "import numpy and pyJHTDB stuff"
   ]
  },
  {
   "cell_type": "code",
   "execution_count": 1,
   "metadata": {
    "collapsed": true
   },
   "outputs": [],
   "source": [
    "import numpy as np\n",
    "import pyJHTDB\n",
    "from pyJHTDB.dbinfo import mhd1024, isotropic1024coarse\n",
    "from pyJHTDB import libJHTDB\n",
    "import time as tt\n",
    "#import mkl_fft"
   ]
  },
  {
   "cell_type": "markdown",
   "metadata": {},
   "source": [
    "now import matplotlib and require plots to be shown inline"
   ]
  },
  {
   "cell_type": "code",
   "execution_count": 2,
   "metadata": {
    "collapsed": true
   },
   "outputs": [],
   "source": [
    "%matplotlib inline\n",
    "import matplotlib.pyplot as plt"
   ]
  },
  {
   "cell_type": "markdown",
   "metadata": {},
   "source": [
    "Generate points adequate for the isotropic Navier Stokes data set."
   ]
  },
  {
   "cell_type": "code",
   "execution_count": 3,
   "metadata": {
    "collapsed": true
   },
   "outputs": [],
   "source": [
    "info    = isotropic1024coarse\n",
    "nlines  = 4\n",
    "ntimes  = 16\n",
    "spacing = info['dx']\n",
    "\n",
    "x = np.zeros((nlines, info['nx'], 3), dtype = np.float32)\n",
    "x0 = np.linspace(0, info['nx']*spacing, num = info['nx'], endpoint=False)\n",
    "\n",
    "e = np.random.randint(3, size=nlines) #line direction. e=0, x-direction; e=1 y-direction; e=2 z-direction\n",
    "\n",
    "time = np.random.choice(info['time'], size = ntimes)"
   ]
  },
  {
   "cell_type": "markdown",
   "metadata": {},
   "source": [
    "Get the velocity field at the above points, i.e. on lines.\n",
    "Since the flow is quasistationary, whether we're averaging over space or time shouldn't really matter, therefore we're reshaping the array on the last line to make things easier."
   ]
  },
  {
   "cell_type": "code",
   "execution_count": 4,
   "metadata": {},
   "outputs": [
    {
     "name": "stdout",
     "output_type": "stream",
     "text": [
      "0\n",
      "1\n",
      "2\n",
      "3\n",
      "4\n",
      "5\n",
      "6\n",
      "7\n",
      "8\n",
      "9\n",
      "10\n",
      "11\n",
      "12\n",
      "13\n",
      "14\n",
      "15\n"
     ]
    }
   ],
   "source": [
    "lJHTDB = libJHTDB()\n",
    "lJHTDB.initialize()\n",
    "\n",
    "#Add token\n",
    "auth_token  = \"edu.jhu.pha.turbulence.testing-201311\"  #Replace with your own token here\n",
    "lJHTDB.add_token(auth_token)\n",
    "\n",
    "u = []\n",
    "for t in range(time.shape[0]):\n",
    "    print (t)\n",
    "    d = 0\n",
    "    for i in e:\n",
    "        x[d, :, e] = x0;\n",
    "        if i == 0:\n",
    "            x[d, :, [1, 2]] = np.random.random(size=(2,1))*info['nx']*spacing\n",
    "        elif i == 1:\n",
    "            x[d, :, [0, 2]] = np.random.random(size=(2,1))*info['nx']*spacing\n",
    "        elif i == 2:\n",
    "            x[d, :, [0, 1]] = np.random.random(size=(2,1))*info['nx']*spacing\n",
    "        d = d + 1\n",
    "    \n",
    "    u.append(lJHTDB.getData(time[t], x, data_set = info['name'],\n",
    "        getFunction = 'getVelocity'))\n",
    "lJHTDB.finalize()\n",
    "u = np.array(u).reshape(nlines*ntimes, x.shape[1], -1)"
   ]
  },
  {
   "cell_type": "markdown",
   "metadata": {},
   "source": [
    "Perform the inverse Fourier transform, and construct an array for the corresponding wavenumbers.\n",
    "While not technically essential, this gives a starting point for the proper treatment of anisotropic grids (such as the channel flow grid)."
   ]
  },
  {
   "cell_type": "code",
   "execution_count": 5,
   "metadata": {
    "collapsed": true
   },
   "outputs": [],
   "source": [
    "uk = np.fft.rfft(u, axis = 1) / u.shape[1]\n",
    "k0 = 2*np.pi / (spacing * x.shape[1])\n",
    "k = k0*np.linspace(1, uk.shape[1]+1, num = uk.shape[1])\n",
    "ek = .5*np.average(np.sum(np.abs(uk)**2, axis = 2), axis = 0)"
   ]
  },
  {
   "cell_type": "code",
   "execution_count": 6,
   "metadata": {},
   "outputs": [
    {
     "data": {
      "text/plain": [
       "<matplotlib.legend.Legend at 0x7f47358d0208>"
      ]
     },
     "execution_count": 6,
     "metadata": {},
     "output_type": "execute_result"
    },
    {
     "data": {
      "image/png": "[encoded data removed]",
      "text/plain": [
       "<matplotlib.figure.Figure at 0x7f4738b9c630>"
      ]
     },
     "metadata": {},
     "output_type": "display_data"
    }
   ],
   "source": [
    "fig = plt.figure(figsize=(10, 6))\n",
    "ax = fig.add_subplot(111)\n",
    "etaK = ((info['nu']**3)/info['diss'])**.25\n",
    "ax.plot(k*etaK,\n",
    "        ek / ((info['diss']**(2./3)) * (etaK**(5./3))),\n",
    "        label = '$E(k)\\\\varepsilon^{-2/3}\\\\eta_K^{-5/3}$')\n",
    "ax.plot(k*etaK,\n",
    "        2*(k*etaK)**(-5./3) / 3,\n",
    "        label = '$\\\\frac{2}{3}(k \\\\eta_K)^{-5/3}$')\n",
    "ax.set_xscale('log')\n",
    "ax.set_yscale('log')\n",
    "ax.legend(loc = 'best')"
   ]
  }
 ],
 "metadata": {
  "kernelspec": {
   "display_name": "Python 3",
   "language": "python",
   "name": "python3"
  },
  "language_info": {
   "codemirror_mode": {
    "name": "ipython",
    "version": 3
   },
   "file_extension": ".py",
   "mimetype": "text/x-python",
   "name": "python",
   "nbconvert_exporter": "python",
   "pygments_lexer": "ipython3",
   "version": "3.7.2"
  }
 },
 "nbformat": 4,
 "nbformat_minor": 1
}
