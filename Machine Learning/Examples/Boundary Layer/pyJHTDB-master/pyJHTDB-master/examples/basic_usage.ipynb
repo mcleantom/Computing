{
 "cells": [
  {
   "cell_type": "markdown",
   "metadata": {},
   "source": [
    "Example usage for pyJHTDB."
   ]
  },
  {
   "cell_type": "code",
   "execution_count": 1,
   "metadata": {},
   "outputs": [
    {
     "ename": "ModuleNotFoundError",
     "evalue": "No module named 'pyJHTDB'",
     "output_type": "error",
     "traceback": [
      "\u001b[1;31m---------------------------------------------------------------------------\u001b[0m",
      "\u001b[1;31mModuleNotFoundError\u001b[0m                       Traceback (most recent call last)",
      "\u001b[1;32m<ipython-input-1-f491c53aab45>\u001b[0m in \u001b[0;36m<module>\u001b[1;34m\u001b[0m\n\u001b[0;32m      1\u001b[0m \u001b[0mget_ipython\u001b[0m\u001b[1;33m(\u001b[0m\u001b[1;33m)\u001b[0m\u001b[1;33m.\u001b[0m\u001b[0mrun_line_magic\u001b[0m\u001b[1;33m(\u001b[0m\u001b[1;34m'matplotlib'\u001b[0m\u001b[1;33m,\u001b[0m \u001b[1;34m'inline'\u001b[0m\u001b[1;33m)\u001b[0m\u001b[1;33m\u001b[0m\u001b[1;33m\u001b[0m\u001b[0m\n\u001b[0;32m      2\u001b[0m \u001b[1;32mimport\u001b[0m \u001b[0mnumpy\u001b[0m \u001b[1;32mas\u001b[0m \u001b[0mnp\u001b[0m\u001b[1;33m\u001b[0m\u001b[1;33m\u001b[0m\u001b[0m\n\u001b[1;32m----> 3\u001b[1;33m \u001b[1;32mimport\u001b[0m \u001b[0mpyJHTDB\u001b[0m\u001b[1;33m\u001b[0m\u001b[1;33m\u001b[0m\u001b[0m\n\u001b[0m",
      "\u001b[1;31mModuleNotFoundError\u001b[0m: No module named 'pyJHTDB'"
     ]
    }
   ],
   "source": [
    "%matplotlib inline\n",
    "import numpy as np\n",
    "import pyJHTDB"
   ]
  },
  {
   "cell_type": "markdown",
   "metadata": {},
   "source": [
    "I'm going to create a 2D grid of points, and then get the values of the velocity at those points.\n",
    "Note that the points must be in single precision if they are to be used for any getData call."
   ]
  },
  {
   "cell_type": "code",
   "execution_count": 2,
   "metadata": {},
   "outputs": [],
   "source": [
    "t = np.linspace(0, 1, 64)\n",
    "x = np.zeros((t.shape[0], t.shape[0], 3), np.float32)\n",
    "x[:, :, 0] = t[np.newaxis, :]\n",
    "x[:, :, 1] = t[:, np.newaxis]\n",
    "x[:, :, 2] = .0"
   ]
  },
  {
   "cell_type": "markdown",
   "metadata": {},
   "source": [
    "Since the dataset I'm gonna use is the isotropic turbulence dataset, it doesn't really matter what value I choose for the z coordinates, if it's fixed.\n",
    "Not for this simple example anyway.\n",
    "\n",
    "The next step is to generate a libJHTDB object, connect it to the database, and use it to read the data that we need.\n",
    "I'm using 4th order Lagrange interpolation (that's the `sinterp = 4` line), and for now we need to specify the actual number corresponding to that (you can find all the different codes in turblib.h from the C package)."
   ]
  },
  {
   "cell_type": "code",
   "execution_count": 3,
   "metadata": {},
   "outputs": [],
   "source": [
    "lJHTDB = pyJHTDB.libJHTDB()\n",
    "lJHTDB.initialize()\n",
    "\n",
    "#Add token\n",
    "auth_token  = \"edu.jhu.pha.turbulence.testing-201311\"  #Replace with your own token here\n",
    "lJHTDB.add_token(auth_token)\n",
    "\n",
    "import pyJHTDB.dbinfo\n",
    "T = pyJHTDB.dbinfo.isotropic1024coarse['time'][-1]\n",
    "time = np.random.random()*T\n",
    "u = lJHTDB.getData(\n",
    "               time,\n",
    "               x,\n",
    "               sinterp = 4,\n",
    "               getFunction='getVelocity')\n",
    "ubox = lJHTDB.getBoxFilter(\n",
    "               time,\n",
    "               x,\n",
    "               field = 'velocity',\n",
    "               filter_width = 5*(2*np.pi / 1024))\n",
    "lJHTDB.finalize()"
   ]
  },
  {
   "cell_type": "markdown",
   "metadata": {},
   "source": [
    "Now we have the velocity stored in u, and we're gonna compute the energy and make a nice plot of it."
   ]
  },
  {
   "cell_type": "code",
   "execution_count": 4,
   "metadata": {},
   "outputs": [
    {
     "data": {
      "text/plain": [
       "<matplotlib.image.AxesImage at 0xb16102320>"
      ]
     },
     "execution_count": 4,
     "metadata": {},
     "output_type": "execute_result"
    },
    {
     "data": {
      "image/png": "[encoded data removed]",
      "text/plain": [
       "<Figure size 720x360 with 2 Axes>"
      ]
     },
     "metadata": {
      "needs_background": "light"
     },
     "output_type": "display_data"
    }
   ],
   "source": [
    "e = np.sum(u**2, axis = 2)\n",
    "ebox = np.sum(ubox**2, axis = 2)\n",
    "\n",
    "import matplotlib.pyplot as plt\n",
    "fig = plt.figure(figsize = (10, 5))\n",
    "a = fig.add_subplot(121)\n",
    "a.set_axis_off()\n",
    "a.imshow(e,\n",
    "         extent = [t[0], t[-1] - t[0], t[0], t[-1] - t[0]],\n",
    "         interpolation = 'none')\n",
    "a = fig.add_subplot(122)\n",
    "a.imshow(ebox,\n",
    "         extent = [t[0], t[-1] - t[0], t[0], t[-1] - t[0]],\n",
    "         interpolation = 'none')"
   ]
  },
  {
   "cell_type": "markdown",
   "metadata": {},
   "source": [
    "Next, get some trajectories."
   ]
  },
  {
   "cell_type": "code",
   "execution_count": 5,
   "metadata": {},
   "outputs": [
    {
     "name": "stdout",
     "output_type": "stream",
     "text": [
      "starting integration loop, dataset is  isotropic1024coarse\n",
      "at time step 1 out of 50\n",
      "got next position for time step 1\n",
      "at time step 2 out of 50\n",
      "got next position for time step 2\n",
      "at time step 3 out of 50\n",
      "got next position for time step 3\n",
      "at time step 4 out of 50\n",
      "got next position for time step 4\n",
      "at time step 5 out of 50\n",
      "got next position for time step 5\n",
      "at time step 6 out of 50\n",
      "got next position for time step 6\n",
      "at time step 7 out of 50\n",
      "got next position for time step 7\n",
      "at time step 8 out of 50\n",
      "got next position for time step 8\n",
      "at time step 9 out of 50\n",
      "got next position for time step 9\n",
      "at time step 10 out of 50\n",
      "got next position for time step 10\n",
      "at time step 11 out of 50\n",
      "got next position for time step 11\n",
      "at time step 12 out of 50\n",
      "got next position for time step 12\n",
      "at time step 13 out of 50\n",
      "got next position for time step 13\n",
      "at time step 14 out of 50\n",
      "got next position for time step 14\n",
      "at time step 15 out of 50\n",
      "got next position for time step 15\n",
      "at time step 16 out of 50\n",
      "got next position for time step 16\n",
      "at time step 17 out of 50\n",
      "got next position for time step 17\n",
      "at time step 18 out of 50\n",
      "got next position for time step 18\n",
      "at time step 19 out of 50\n",
      "got next position for time step 19\n",
      "at time step 20 out of 50\n",
      "got next position for time step 20\n",
      "at time step 21 out of 50\n",
      "got next position for time step 21\n",
      "at time step 22 out of 50\n",
      "got next position for time step 22\n",
      "at time step 23 out of 50\n",
      "got next position for time step 23\n",
      "at time step 24 out of 50\n",
      "got next position for time step 24\n",
      "at time step 25 out of 50\n",
      "got next position for time step 25\n",
      "at time step 26 out of 50\n",
      "got next position for time step 26\n",
      "at time step 27 out of 50\n",
      "got next position for time step 27\n",
      "at time step 28 out of 50\n",
      "got next position for time step 28\n",
      "at time step 29 out of 50\n",
      "got next position for time step 29\n",
      "at time step 30 out of 50\n",
      "got next position for time step 30\n",
      "at time step 31 out of 50\n",
      "got next position for time step 31\n",
      "at time step 32 out of 50\n",
      "got next position for time step 32\n",
      "at time step 33 out of 50\n",
      "got next position for time step 33\n",
      "at time step 34 out of 50\n",
      "got next position for time step 34\n",
      "at time step 35 out of 50\n",
      "got next position for time step 35\n",
      "at time step 36 out of 50\n",
      "got next position for time step 36\n",
      "at time step 37 out of 50\n",
      "got next position for time step 37\n",
      "at time step 38 out of 50\n",
      "got next position for time step 38\n",
      "at time step 39 out of 50\n",
      "got next position for time step 39\n",
      "at time step 40 out of 50\n",
      "got next position for time step 40\n",
      "at time step 41 out of 50\n",
      "got next position for time step 41\n",
      "at time step 42 out of 50\n",
      "got next position for time step 42\n",
      "at time step 43 out of 50\n",
      "got next position for time step 43\n",
      "at time step 44 out of 50\n",
      "got next position for time step 44\n",
      "at time step 45 out of 50\n",
      "got next position for time step 45\n",
      "at time step 46 out of 50\n",
      "got next position for time step 46\n",
      "at time step 47 out of 50\n",
      "got next position for time step 47\n",
      "at time step 48 out of 50\n",
      "got next position for time step 48\n",
      "at time step 49 out of 50\n",
      "got next position for time step 49\n",
      "at time step 50 out of 50\n",
      "got next position for time step 50\n"
     ]
    }
   ],
   "source": [
    "lJHTDB.initialize()\n",
    "\n",
    "x, t = lJHTDB.getPosition(\n",
    "    starttime = 0.1,\n",
    "    endtime = 0.2,\n",
    "    dt = 0.001,\n",
    "    point_coords = 2*np.pi * np.random.random((20, 3)),\n",
    "    steps_to_keep = 50)\n",
    "\n",
    "lJHTDB.finalize()"
   ]
  },
  {
   "cell_type": "markdown",
   "metadata": {},
   "source": [
    "Now, plot trajectories. Not spectactular because they're not that long, but this is the way a simple plot would work for long trajectories as well."
   ]
  },
  {
   "cell_type": "code",
   "execution_count": 6,
   "metadata": {},
   "outputs": [
    {
     "data": {
      "text/plain": [
       "[<matplotlib.lines.Line2D at 0xb161aca90>,\n",
       " <matplotlib.lines.Line2D at 0xb1621b9e8>,\n",
       " <matplotlib.lines.Line2D at 0xb1621bb38>]"
      ]
     },
     "execution_count": 6,
     "metadata": {},
     "output_type": "execute_result"
    },
    {
     "data": {
      "image/png": "[encoded data removed]",
      "text/plain": [
       "<Figure size 720x360 with 1 Axes>"
      ]
     },
     "metadata": {
      "needs_background": "light"
     },
     "output_type": "display_data"
    }
   ],
   "source": [
    "fig = plt.figure(figsize = (10, 5))\n",
    "a = fig.add_subplot(111)\n",
    "a.plot(x[:, 0], x[:, 1])"
   ]
  },
  {
   "cell_type": "code",
   "execution_count": null,
   "metadata": {},
   "outputs": [],
   "source": []
  }
 ],
 "metadata": {
  "kernelspec": {
   "display_name": "Python 3",
   "language": "python",
   "name": "python3"
  },
  "language_info": {
   "codemirror_mode": {
    "name": "ipython",
    "version": 3
   },
   "file_extension": ".py",
   "mimetype": "text/x-python",
   "name": "python",
   "nbconvert_exporter": "python",
   "pygments_lexer": "ipython3",
   "version": "3.7.9"
  }
 },
 "nbformat": 4,
 "nbformat_minor": 1
}
