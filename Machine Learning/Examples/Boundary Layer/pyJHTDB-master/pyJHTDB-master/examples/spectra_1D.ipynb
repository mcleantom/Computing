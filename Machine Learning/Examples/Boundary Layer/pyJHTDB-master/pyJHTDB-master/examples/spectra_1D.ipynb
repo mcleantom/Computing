{
 "metadata": {
  "name": "",
  "signature": "sha256:bcc852190e51dc05aec999b7865539ceb9e70becc3aae29c675cb9f426c20b61"
 },
 "nbformat": 3,
 "nbformat_minor": 0,
 "worksheets": [
  {
   "cells": [
    {
     "cell_type": "markdown",
     "metadata": {},
     "source": [
      "import numpy and pyJHTDB stuff"
     ]
    },
    {
     "cell_type": "code",
     "collapsed": false,
     "input": [
      "import numpy as np\n",
      "import pyJHTDB\n",
      "from pyJHTDB.dbinfo import mhd1024, isotropic1024coarse\n",
      "from pyJHTDB import libJHTDB"
     ],
     "language": "python",
     "metadata": {},
     "outputs": [],
     "prompt_number": 1
    },
    {
     "cell_type": "markdown",
     "metadata": {},
     "source": [
      "now import matplotlib and require plots to be shown inline"
     ]
    },
    {
     "cell_type": "code",
     "collapsed": false,
     "input": [
      "%matplotlib inline\n",
      "import matplotlib.pyplot as plt"
     ],
     "language": "python",
     "metadata": {},
     "outputs": [],
     "prompt_number": 2
    },
    {
     "cell_type": "markdown",
     "metadata": {},
     "source": [
      "Generate points adequate for the isotropic Navier Stokes data set."
     ]
    },
    {
     "cell_type": "code",
     "collapsed": false,
     "input": [
      "info    = isotropic1024coarse\n",
      "nlines  = 16\n",
      "ntimes  = 16\n",
      "spacing = info['dx']\n",
      "\n",
      "x = np.zeros((nlines, info['nx'], 3), dtype = np.float32)\n",
      "e = np.random.randn(nlines, 3)\n",
      "e /= (np.sum(e**2, axis = 1)**.5)[:, None]\n",
      "x0 = np.random.random(size=(nlines, 3))\n",
      "x[:, 0, 0] = info['xnodes'][0] + x0[:, 0]*info['lx']\n",
      "x[:, 0, 1] = info['ynodes'][1] + x0[:, 1]*info['ly']\n",
      "x[:, 0, 2] = info['znodes'][2] + x0[:, 2]*info['lz']\n",
      "\n",
      "x[:] = (x[:, 0, None] +\n",
      "        e[:, None]*np.linspace(0,\n",
      "                               x.shape[1]*spacing,\n",
      "                               num = x.shape[1],\n",
      "                               endpoint=False)[None, :, None])\n",
      "\n",
      "time = np.random.choice(info['time'], size = ntimes)"
     ],
     "language": "python",
     "metadata": {},
     "outputs": [],
     "prompt_number": 3
    },
    {
     "cell_type": "markdown",
     "metadata": {},
     "source": [
      "Get the velocity field at the above points, i.e. on lines.\n",
      "Since the flow is quasistationary, whether we're averaging over space or time shouldn't really matter, therefore we're reshaping the array on the last line to make things easier."
     ]
    },
    {
     "cell_type": "code",
     "collapsed": false,
     "input": [
      "lJHTDB = libJHTDB()\n",
      "lJHTDB.initialize()\n",
      "u = []\n",
      "for t in time:\n",
      "    u.append(lJHTDB.getData(\n",
      "        t,\n",
      "        x,\n",
      "        getFunction = 'getVelocity',\n",
      "        data_set = info['name']))\n",
      "lJHTDB.finalize()\n",
      "u = np.array(u).reshape(nlines*ntimes, x.shape[1], -1)"
     ],
     "language": "python",
     "metadata": {},
     "outputs": [],
     "prompt_number": 4
    },
    {
     "cell_type": "markdown",
     "metadata": {},
     "source": [
      "Perform the inverse Fourier transform, and construct an array for the corresponding wavenumbers.\n",
      "While not technically essential, this gives a starting point for the proper treatment of anisotropic grids (such as the channel flow grid)."
     ]
    },
    {
     "cell_type": "code",
     "collapsed": false,
     "input": [
      "uk = np.fft.rfft(u, axis = 1) / u.shape[1]\n",
      "k0 = 2*np.pi / (spacing * x.shape[1])\n",
      "k = k0*np.linspace(1, uk.shape[1]+1, num = uk.shape[1])\n",
      "ek = .5*np.average(np.sum(np.abs(uk)**2, axis = 2), axis = 0)"
     ],
     "language": "python",
     "metadata": {},
     "outputs": [],
     "prompt_number": 14
    },
    {
     "cell_type": "code",
     "collapsed": false,
     "input": [
      "fig = plt.figure(figsize=(10, 6))\n",
      "ax = fig.add_subplot(111)\n",
      "etaK = ((info['nu']**3)/info['diss'])**.25\n",
      "ax.plot(k*etaK,\n",
      "        ek / ((info['diss']**(2./3)) * (etaK**(5./3))),\n",
      "        label = '$E(k)\\\\varepsilon^{-2/3}\\\\eta_K^{-5/3}$')\n",
      "ax.plot(k*etaK,\n",
      "        2*(k*etaK)**(-5./3) / 3,\n",
      "        label = '$\\\\frac{2}{3}(k \\\\eta_K)^{-5/3}$')\n",
      "ax.set_xscale('log')\n",
      "ax.set_yscale('log')\n",
      "ax.legend(loc = 'best')"
     ],
     "language": "python",
     "metadata": {},
     "outputs": [
      {
       "metadata": {},
       "output_type": "pyout",
       "prompt_number": 17,
       "text": [
        "<matplotlib.legend.Legend at 0x8048b50>"
       ]
      },
      {
       "metadata": {},
       "output_type": "display_data",
       "png": "[encoded data removed]",
       "text": [
        "<matplotlib.figure.Figure at 0x5b396d0>"
       ]
      }
     ],
     "prompt_number": 17
    }
   ],
   "metadata": {}
  }
 ]
}